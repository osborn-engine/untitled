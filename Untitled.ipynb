{
 "cells": [
  {
   "cell_type": "markdown",
   "id": "addaa3e5-b639-43e8-bf7f-df3d1e360b09",
   "metadata": {},
   "source": [
    "# Data Science Tools and Ecosystem "
   ]
  },
  {
   "cell_type": "markdown",
   "id": "553f860f-119b-4b8d-b111-2b1fe7712baa",
   "metadata": {},
   "source": [
    "In This Notebook,Data Science Tools and Ecosystem Are Summarized:"
   ]
  },
  {
   "cell_type": "markdown",
   "id": "1b829a89-52b5-47e1-a4b2-01d9805103ff",
   "metadata": {},
   "source": [
    "## Objectives"
   ]
  },
  {
   "cell_type": "markdown",
   "id": "9abc8d0d-01b7-478c-b21e-f7521c1f4e0d",
   "metadata": {},
   "source": [
    "- List some of the popular languages that data scientist use\n",
    "- List some of the commonly used libraries used by data scientist\n",
    "- Create a data science table\n",
    "- Example of evaluating a simple arithmetic expression in python\n",
    "- Create a code cell to convert minutes into hours\n"
   ]
  },
  {
   "cell_type": "markdown",
   "id": "edb3ea9a-34f7-41b0-ae86-569425276b2f",
   "metadata": {},
   "source": [
    "Some Of The Popular languages That Data Scientist Use Are: "
   ]
  },
  {
   "cell_type": "markdown",
   "id": "6b0b88eb-a687-435e-879e-3faf887f5b48",
   "metadata": {},
   "source": [
    "1. Python\n",
    "2. R\n",
    "3. SQL\n",
    "4. Java\n",
    "5. Scala\n",
    "6. C/C++\n",
    "7. Julia\n",
    "8. JavaScript \n",
    "9. GO\n",
    "10. Swift\n",
    "11. MATLAB "
   ]
  },
  {
   "cell_type": "markdown",
   "id": "b96a4a6a-f89e-4e63-b251-46843492186e",
   "metadata": {},
   "source": [
    "Some Of The Commonly Used Libraries Used By Data Scientist Include:"
   ]
  },
  {
   "cell_type": "markdown",
   "id": "c8b90906-f711-4ad7-b682-a4dac2aeb7d8",
   "metadata": {},
   "source": [
    "1. MatPlotlib \n",
    "2. NumPy \n",
    "3. TensorFlow\n",
    "4. Pandas\n",
    "5. Scikit-learn\n",
    "6. SciPy\n",
    "7. PyTorch\n"
   ]
  },
  {
   "cell_type": "markdown",
   "id": "0d410fee-5206-4854-b646-f2a82c1fda10",
   "metadata": {},
   "source": [
    "# Data Science Tools\n",
    "_______________________________________\n",
    "1. Weka - used for data mining\n",
    "________________________________________\n",
    "2. Scrapy - wirting web spiders\n",
    "________________________________________\n",
    "3. Pandas - data wrangling software\n",
    "_________________________________________\n",
    "4. Spark - analytics engine for big data\n",
    "_________________________________________\n"
   ]
  },
  {
   "cell_type": "markdown",
   "id": "acd7f3df-45f0-4cc6-a355-d8f35fa29f6c",
   "metadata": {},
   "source": [
    "### Below Are a Few Examples Of Evaluating Arithmetic Expressions In Python:"
   ]
  },
  {
   "cell_type": "markdown",
   "id": "cbd266e3-c82f-4e72-8299-a7c3367129a3",
   "metadata": {},
   "source": [
    "This is a simple arithmetic expression to multiply and add integers"
   ]
  },
  {
   "cell_type": "code",
   "execution_count": 5,
   "id": "d6447f82-e8d4-481d-a8b6-dbf080c55cf1",
   "metadata": {
    "tags": []
   },
   "outputs": [
    {
     "data": {
      "text/plain": [
       "17"
      ]
     },
     "execution_count": 5,
     "metadata": {},
     "output_type": "execute_result"
    }
   ],
   "source": [
    "(3*4)+5"
   ]
  },
  {
   "cell_type": "markdown",
   "id": "e1ff4e05-c29c-4e0e-87e8-70ad2c330386",
   "metadata": {},
   "source": [
    "This will convert 200 minutes to hours by deviding by 60"
   ]
  },
  {
   "cell_type": "code",
   "execution_count": 6,
   "id": "3256973d-1ff7-43da-993d-f26dfc88a8b7",
   "metadata": {
    "tags": []
   },
   "outputs": [
    {
     "data": {
      "text/plain": [
       "3.3333333333333335"
      ]
     },
     "execution_count": 6,
     "metadata": {},
     "output_type": "execute_result"
    }
   ],
   "source": [
    "200/60"
   ]
  },
  {
   "cell_type": "markdown",
   "id": "14056009-cfb5-4ad7-ba99-09f9fc9ad283",
   "metadata": {},
   "source": [
    "## Author.\n",
    "Tshidaho Mukwevho"
   ]
  }
 ],
 "metadata": {
  "kernelspec": {
   "display_name": "Python",
   "language": "python",
   "name": "conda-env-python-py"
  },
  "language_info": {
   "codemirror_mode": {
    "name": "ipython",
    "version": 3
   },
   "file_extension": ".py",
   "mimetype": "text/x-python",
   "name": "python",
   "nbconvert_exporter": "python",
   "pygments_lexer": "ipython3",
   "version": "3.7.12"
  }
 },
 "nbformat": 4,
 "nbformat_minor": 5
}
